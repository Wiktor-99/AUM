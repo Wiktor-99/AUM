{
 "cells": [
  {
   "cell_type": "code",
   "execution_count": 1,
   "metadata": {},
   "outputs": [
    {
     "name": "stderr",
     "output_type": "stream",
     "text": [
      "/home/wiktor/.local/lib/python3.8/site-packages/skimage/io/manage_plugins.py:23: UserWarning: Your installed pillow version is < 8.1.2. Several security issues (CVE-2021-27921, CVE-2021-25290, CVE-2021-25291, CVE-2021-25293, and more) have been fixed in pillow 8.1.2 or higher. We recommend to upgrade this library.\n",
      "  from .collection import imread_collection_wrapper\n",
      "/home/wiktor/.local/lib/python3.8/site-packages/skimage/io/manage_plugins.py:293: UserWarning: Your installed pillow version is < 8.1.2. Several security issues (CVE-2021-27921, CVE-2021-25290, CVE-2021-25291, CVE-2021-25293, and more) have been fixed in pillow 8.1.2 or higher. We recommend to upgrade this library.\n",
      "  plugin_module = __import__('skimage.io._plugins.' + modname,\n"
     ]
    }
   ],
   "source": [
    "from skimage.io import imread_collection\n",
    "from skimage.transform import resize\n",
    "import numpy as np\n",
    "from sklearn.base import BaseEstimator, TransformerMixin\n",
    "from sklearn.preprocessing import StandardScaler\n",
    "from skimage.feature import hog\n",
    "from sklearn.pipeline import Pipeline\n",
    "from sklearn.neighbors import KNeighborsClassifier\n",
    "from sklearn.model_selection import GridSearchCV\n",
    "\n",
    "def load_images(class_name, values, labels):\n",
    "    path_to_image = 'raw-img/'\n",
    "    postfix = '/*.jpeg'\n",
    "    image_size = (128,128)\n",
    "    for image in imread_collection(path_to_image + class_name + postfix):\n",
    "        values.append(resize(image, image_size))\n",
    "        labels.append(class_name)\n",
    "\n",
    "def create_data_set():\n",
    "    class_names = ['spider', 'horse', 'elephant', 'chicken', 'sheep']\n",
    "    values = []\n",
    "    labels = []\n",
    "    for class_name in class_names:\n",
    "        load_images(class_name, values, labels)\n",
    "\n",
    "    return np.array(values), np.array(labels)\n",
    "\n",
    "x, y = create_data_set()\n",
    " \n",
    "class HogTransform(BaseEstimator, TransformerMixin):\n",
    "    def __init__(self, y=None, orientations=9,\n",
    "                 pixels_per_cell=(8, 8),\n",
    "                 cells_per_block=(3, 3), block_norm='L2-Hys'):\n",
    "        self.y = y\n",
    "        self.orientations = orientations\n",
    "        self.pixels_per_cell = pixels_per_cell\n",
    "        self.cells_per_block = cells_per_block\n",
    "        self.block_norm = block_norm\n",
    " \n",
    "    def fit(self, X, y=None):\n",
    "        return self\n",
    " \n",
    "    def transform(self, X, y=None):\n",
    "        return np.array([ \n",
    "            hog(img,\n",
    "                orientations=self.orientations,\n",
    "                pixels_per_cell=self.pixels_per_cell,\n",
    "                cells_per_block=self.cells_per_block, channel_axis=-1) for img in X ])\n"
   ]
  },
  {
   "cell_type": "code",
   "execution_count": null,
   "metadata": {},
   "outputs": [],
   "source": [
    "hog_pipeline = Pipeline([\n",
    "    ('hog_transform', HogTransform()),\n",
    "    ('scaler', StandardScaler()),\n",
    "    ('logistic',KNeighborsClassifier(n_neighbors=6))\n",
    "])\n",
    " \n",
    "param_grid = [\n",
    "    {\n",
    "        'hog_transform__orientations': [7, 8, 9, 10, 11],\n",
    "        'hog_transform__cells_per_block': [(2, 2), (3, 3), (4,4), (5,5), (6,6), (7,7), (8,8)],\n",
    "        'hog_transform__pixels_per_cell': [(6,6), (7,7), (8, 8), (9,9), (10, 10), (12, 12)]\n",
    "    },\n",
    "\n",
    "]\n",
    "search = GridSearchCV(hog_pipeline, param_grid, n_jobs=2, verbose=10)\n",
    "search.fit(x, y)\n",
    "print(\"Best parameter (CV score=%0.3f):\" % search.best_score_)\n",
    "print(search.best_params_)\n"
   ]
  },
  {
   "cell_type": "code",
   "execution_count": 8,
   "metadata": {},
   "outputs": [
    {
     "name": "stdout",
     "output_type": "stream",
     "text": [
      "Unexpected exception formatting exception. Falling back to standard exception\n"
     ]
    },
    {
     "name": "stderr",
     "output_type": "stream",
     "text": [
      "Traceback (most recent call last):\n",
      "  File \"/home/wiktor/.local/lib/python3.8/site-packages/IPython/core/interactiveshell.py\", line 3369, in run_code\n",
      "    exec(code_obj, self.user_global_ns, self.user_ns)\n",
      "  File \"/tmp/ipykernel_25659/3118681098.py\", line 6, in <cell line: 6>\n",
      "    x_train = scalify.fit_transform(hog_trasform.transform(x))\n",
      "  File \"/tmp/ipykernel_25659/3347403700.py\", line 44, in transform\n",
      "    return np.array([\n",
      "  File \"/tmp/ipykernel_25659/3347403700.py\", line 45, in <listcomp>\n",
      "    hog(img,\n",
      "  File \"/home/wiktor/.local/lib/python3.8/site-packages/skimage/_shared/utils.py\", line 406, in fixed_func\n",
      "    return func(*args, **kwargs)\n",
      "  File \"/home/wiktor/.local/lib/python3.8/site-packages/skimage/_shared/utils.py\", line 348, in fixed_func\n",
      "    return func(*args, **kwargs)\n",
      "  File \"/home/wiktor/.local/lib/python3.8/site-packages/skimage/feature/_hog.py\", line 293, in hog\n",
      "    _hog_normalize_block(block, method=block_norm)\n",
      "  File \"/home/wiktor/.local/lib/python3.8/site-packages/skimage/feature/_hog.py\", line 15, in _hog_normalize_block\n",
      "    out = block / np.sqrt(np.sum(block ** 2) + eps ** 2)\n",
      "KeyboardInterrupt\n",
      "\n",
      "During handling of the above exception, another exception occurred:\n",
      "\n",
      "Traceback (most recent call last):\n",
      "  File \"/home/wiktor/.local/lib/python3.8/site-packages/IPython/core/interactiveshell.py\", line 1982, in showtraceback\n",
      "    stb = self.InteractiveTB.structured_traceback(\n",
      "  File \"/home/wiktor/.local/lib/python3.8/site-packages/IPython/core/ultratb.py\", line 1118, in structured_traceback\n",
      "    return FormattedTB.structured_traceback(\n",
      "  File \"/home/wiktor/.local/lib/python3.8/site-packages/IPython/core/ultratb.py\", line 1012, in structured_traceback\n",
      "    return VerboseTB.structured_traceback(\n",
      "  File \"/home/wiktor/.local/lib/python3.8/site-packages/IPython/core/ultratb.py\", line 865, in structured_traceback\n",
      "    formatted_exception = self.format_exception_as_a_whole(etype, evalue, etb, number_of_lines_of_context,\n",
      "  File \"/home/wiktor/.local/lib/python3.8/site-packages/IPython/core/ultratb.py\", line 799, in format_exception_as_a_whole\n",
      "    self.get_records(etb, number_of_lines_of_context, tb_offset) if etb else []\n",
      "  File \"/home/wiktor/.local/lib/python3.8/site-packages/IPython/core/ultratb.py\", line 845, in get_records\n",
      "    style = stack_data.style_with_executing_node(style, \"bg:ansiyellow\")\n",
      "  File \"/home/wiktor/.local/lib/python3.8/site-packages/stack_data/core.py\", line 424, in style_with_executing_node\n",
      "    class NewStyle(style):\n",
      "  File \"/usr/lib/python3/dist-packages/pygments/style.py\", line 91, in __new__\n",
      "    ndef[4] = colorformat(styledef[3:])\n",
      "  File \"/usr/lib/python3/dist-packages/pygments/style.py\", line 58, in colorformat\n",
      "    assert False, \"wrong color format %r\" % text\n",
      "AssertionError: wrong color format 'ansiyellow'\n"
     ]
    }
   ],
   "source": [
    "from sklearn import svm\n",
    "\n",
    "scalify = StandardScaler()\n",
    "hog_trasform = HogTransform(orientations=11, cells_per_block=(7,7), pixels_per_cell=(8,8))\n",
    "\n",
    "x_train = scalify.fit_transform(hog_trasform.transform(x))\n",
    "\n",
    "svm_pipeline = Pipeline([\n",
    "    ('logistic',svm.SVC())\n",
    "])\n",
    " \n",
    "param_grid = [\n",
    "    {\n",
    "        'logistic__C': [ 0.4, 0.5, 0.8, 1.1, 2, 3, 5, 6]\n",
    "    },\n",
    "\n",
    "]\n",
    "search = GridSearchCV(svm_pipeline, param_grid, n_jobs=2, verbose=10)\n",
    "search.fit(x_train, y)\n",
    "print(\"Best parameter (CV score=%0.3f):\" % search.best_score_)\n",
    "print(search.best_params_)\n"
   ]
  }
 ],
 "metadata": {
  "interpreter": {
   "hash": "31f2aee4e71d21fbe5cf8b01ff0e069b9275f58929596ceb00d14d90e3e16cd6"
  },
  "kernelspec": {
   "display_name": "Python 3.8.10 64-bit",
   "language": "python",
   "name": "python3"
  },
  "language_info": {
   "codemirror_mode": {
    "name": "ipython",
    "version": 3
   },
   "file_extension": ".py",
   "mimetype": "text/x-python",
   "name": "python",
   "nbconvert_exporter": "python",
   "pygments_lexer": "ipython3",
   "version": "3.8.10"
  },
  "orig_nbformat": 4
 },
 "nbformat": 4,
 "nbformat_minor": 2
}
